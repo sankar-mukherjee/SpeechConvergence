{
 "cells": [
  {
   "cell_type": "markdown",
   "metadata": {
    "heading_collapsed": true
   },
   "source": [
    "# Speech Convergence"
   ]
  },
  {
   "cell_type": "markdown",
   "metadata": {
    "hidden": true
   },
   "source": [
    "Convergence is computed on word pairs. For a word pair to be a convergent one, the acoustic properties of the words for the two speakers must become more similar to each other."
   ]
  },
  {
   "cell_type": "markdown",
   "metadata": {
    "hidden": true
   },
   "source": [
    "![title](docs/img/Convergence_criteria.png)\n"
   ]
  },
  {
   "cell_type": "markdown",
   "metadata": {
    "heading_collapsed": true,
    "hidden": true
   },
   "source": [
    "## Run the notebook"
   ]
  },
  {
   "cell_type": "code",
   "execution_count": 109,
   "metadata": {
    "code_folding": [
     0
    ],
    "hidden": true
   },
   "outputs": [],
   "source": [
    "# init\n",
    "import numpy as np\n",
    "import os\n",
    "import warnings\n",
    "warnings.filterwarnings('ignore')\n",
    "from IPython.display import clear_output\n",
    "import seaborn as sns\n",
    "from matplotlib import pyplot as plt\n",
    "import pandas as pd\n",
    "%matplotlib inline\n",
    "\n",
    "subject_name = ['stella','juliet','shai','ayoub','lucas','simone','henry', 'julien',\n",
    "                'marion','elvira']\n",
    "partner_name = ['juliet','stella','ayoub','shai','simone','lucas','julien', 'henry', \n",
    "                'elvira','marion']\n",
    "subject_group_no = [1,1,2,2,3,3,4,4,5,5]\n",
    "\n",
    "session_name = ['pre','duet1', 'duet2', 'duet3' ,'duet4','duet5','duet6','post']\n"
   ]
  },
  {
   "cell_type": "code",
   "execution_count": 54,
   "metadata": {
    "code_folding": [
     0
    ],
    "hidden": true
   },
   "outputs": [
    {
     "data": {
      "text/html": [
       "<div>\n",
       "<style scoped>\n",
       "    .dataframe tbody tr th:only-of-type {\n",
       "        vertical-align: middle;\n",
       "    }\n",
       "\n",
       "    .dataframe tbody tr th {\n",
       "        vertical-align: top;\n",
       "    }\n",
       "\n",
       "    .dataframe thead th {\n",
       "        text-align: right;\n",
       "    }\n",
       "</style>\n",
       "<table border=\"1\" class=\"dataframe\">\n",
       "  <thead>\n",
       "    <tr style=\"text-align: right;\">\n",
       "      <th></th>\n",
       "      <th>subject</th>\n",
       "      <th>session</th>\n",
       "      <th>wordNo</th>\n",
       "      <th>GMM_stella</th>\n",
       "      <th>GMM_juliet</th>\n",
       "      <th>GMM_shai</th>\n",
       "      <th>GMM_ayoub</th>\n",
       "      <th>GMM_lucas</th>\n",
       "      <th>GMM_simone</th>\n",
       "      <th>GMM_henry</th>\n",
       "      <th>GMM_julien</th>\n",
       "      <th>GMM_marion</th>\n",
       "      <th>GMM_elvira</th>\n",
       "      <th>wordIDX</th>\n",
       "    </tr>\n",
       "  </thead>\n",
       "  <tbody>\n",
       "    <tr>\n",
       "      <th>0</th>\n",
       "      <td>ayoub</td>\n",
       "      <td>duet1</td>\n",
       "      <td>1</td>\n",
       "      <td>-0.480712</td>\n",
       "      <td>-1.815762</td>\n",
       "      <td>-1.274695</td>\n",
       "      <td>0.607142</td>\n",
       "      <td>-1.170618</td>\n",
       "      <td>0.199055</td>\n",
       "      <td>-1.024775</td>\n",
       "      <td>0.316127</td>\n",
       "      <td>-0.936675</td>\n",
       "      <td>0.059304</td>\n",
       "      <td>duet1_1</td>\n",
       "    </tr>\n",
       "    <tr>\n",
       "      <th>0</th>\n",
       "      <td>ayoub</td>\n",
       "      <td>duet1</td>\n",
       "      <td>2</td>\n",
       "      <td>-0.682439</td>\n",
       "      <td>-0.463548</td>\n",
       "      <td>-0.883312</td>\n",
       "      <td>0.992523</td>\n",
       "      <td>-0.911162</td>\n",
       "      <td>-0.282451</td>\n",
       "      <td>-0.735117</td>\n",
       "      <td>-0.426528</td>\n",
       "      <td>-0.692185</td>\n",
       "      <td>-0.647229</td>\n",
       "      <td>duet1_2</td>\n",
       "    </tr>\n",
       "    <tr>\n",
       "      <th>0</th>\n",
       "      <td>ayoub</td>\n",
       "      <td>duet1</td>\n",
       "      <td>3</td>\n",
       "      <td>0.252974</td>\n",
       "      <td>-1.128935</td>\n",
       "      <td>-1.544956</td>\n",
       "      <td>0.667604</td>\n",
       "      <td>-0.862632</td>\n",
       "      <td>-0.434648</td>\n",
       "      <td>-1.276315</td>\n",
       "      <td>-0.124275</td>\n",
       "      <td>-0.978689</td>\n",
       "      <td>0.478533</td>\n",
       "      <td>duet1_3</td>\n",
       "    </tr>\n",
       "    <tr>\n",
       "      <th>0</th>\n",
       "      <td>ayoub</td>\n",
       "      <td>duet1</td>\n",
       "      <td>4</td>\n",
       "      <td>-0.283780</td>\n",
       "      <td>-1.516061</td>\n",
       "      <td>-1.193692</td>\n",
       "      <td>1.506307</td>\n",
       "      <td>-0.982213</td>\n",
       "      <td>0.077695</td>\n",
       "      <td>-1.697411</td>\n",
       "      <td>0.357814</td>\n",
       "      <td>-1.646500</td>\n",
       "      <td>0.064793</td>\n",
       "      <td>duet1_4</td>\n",
       "    </tr>\n",
       "    <tr>\n",
       "      <th>0</th>\n",
       "      <td>ayoub</td>\n",
       "      <td>duet1</td>\n",
       "      <td>5</td>\n",
       "      <td>0.123190</td>\n",
       "      <td>-1.488713</td>\n",
       "      <td>-1.944007</td>\n",
       "      <td>1.275417</td>\n",
       "      <td>-1.430166</td>\n",
       "      <td>-0.326952</td>\n",
       "      <td>-1.817676</td>\n",
       "      <td>0.375320</td>\n",
       "      <td>-1.583974</td>\n",
       "      <td>0.147306</td>\n",
       "      <td>duet1_5</td>\n",
       "    </tr>\n",
       "  </tbody>\n",
       "</table>\n",
       "</div>"
      ],
      "text/plain": [
       "  subject session  wordNo  GMM_stella  GMM_juliet  GMM_shai  GMM_ayoub  \\\n",
       "0   ayoub   duet1       1   -0.480712   -1.815762 -1.274695   0.607142   \n",
       "0   ayoub   duet1       2   -0.682439   -0.463548 -0.883312   0.992523   \n",
       "0   ayoub   duet1       3    0.252974   -1.128935 -1.544956   0.667604   \n",
       "0   ayoub   duet1       4   -0.283780   -1.516061 -1.193692   1.506307   \n",
       "0   ayoub   duet1       5    0.123190   -1.488713 -1.944007   1.275417   \n",
       "\n",
       "   GMM_lucas  GMM_simone  GMM_henry  GMM_julien  GMM_marion  GMM_elvira  \\\n",
       "0  -1.170618    0.199055  -1.024775    0.316127   -0.936675    0.059304   \n",
       "0  -0.911162   -0.282451  -0.735117   -0.426528   -0.692185   -0.647229   \n",
       "0  -0.862632   -0.434648  -1.276315   -0.124275   -0.978689    0.478533   \n",
       "0  -0.982213    0.077695  -1.697411    0.357814   -1.646500    0.064793   \n",
       "0  -1.430166   -0.326952  -1.817676    0.375320   -1.583974    0.147306   \n",
       "\n",
       "   wordIDX  \n",
       "0  duet1_1  \n",
       "0  duet1_2  \n",
       "0  duet1_3  \n",
       "0  duet1_4  \n",
       "0  duet1_5  "
      ]
     },
     "execution_count": 54,
     "metadata": {},
     "output_type": "execute_result"
    }
   ],
   "source": [
    "# load data\n",
    "duet_scores = pd.read_pickle('data/duet_scores.pkl')\n",
    "duet_scores  = duet_scores.sort_values(by=['subject','session', 'wordNo'])\n",
    "duet_scores.head()"
   ]
  },
  {
   "cell_type": "markdown",
   "metadata": {
    "heading_collapsed": true,
    "hidden": true
   },
   "source": [
    "### Convergence criteria\n",
    "Compute the distribution of LLR score difference between own model and partner model. We call it baseline_threshold and we get it for each speaker. We get the 5 , 50 and 95 percentile of this distribution.\n",
    "\n",
    "For test speech we compute the LLR score difference (y) between own model and partner model. Now if:\n",
    "\n",
    "    baseline_threshold(5)< y < baseline_threshold(95) = No change\n",
    "    y <= baseline_threshold(5) = Convergence\n",
    "    y >= baseline_threshold(95) = Divergence\n",
    "    "
   ]
  },
  {
   "cell_type": "code",
   "execution_count": 107,
   "metadata": {
    "code_folding": [
     0
    ],
    "hidden": true
   },
   "outputs": [
    {
     "name": "stdout",
     "output_type": "stream",
     "text": [
      "baseline threshold is computed on the session = post\n"
     ]
    },
    {
     "data": {
      "text/plain": [
       "array([[ 0.33365847,  1.47353121,  2.68193454],\n",
       "       [ 0.04267303,  1.07165722,  1.7855889 ],\n",
       "       [ 0.7557219 ,  1.53970878,  2.37345243],\n",
       "       [ 0.99759301,  2.10277477,  3.15677467],\n",
       "       [ 0.2416694 ,  0.80858375,  1.2396514 ],\n",
       "       [-0.165991  ,  0.73900217,  1.37287568],\n",
       "       [ 0.76510855,  1.41287124,  2.2386854 ],\n",
       "       [ 0.84049534,  1.69905127,  2.77409626],\n",
       "       [ 0.60807674,  1.50376999,  2.35127932],\n",
       "       [ 0.33741813,  1.53726791,  2.54546658]])"
      ]
     },
     "execution_count": 107,
     "metadata": {},
     "output_type": "execute_result"
    }
   ],
   "source": [
    "# compute baseline threshold for each subjects with [5 50 95] percentile\n",
    "session = session_name[7]\n",
    "print('baseline threshold is computed on the session = '+session)\n",
    "\n",
    "baseline_threshold = []\n",
    "for i in range(0,len(subject_name)):\n",
    "    s=subject_name[i]\n",
    "    p=partner_name[i]\n",
    "    a=duet_scores[(duet_scores['session']==session)&\n",
    "                  (duet_scores['subject']==s)]['GMM_'+s].get_values()\n",
    "\n",
    "    b=duet_scores[(duet_scores['session']==session)&\n",
    "                  (duet_scores['subject']==s)]['GMM_'+p].get_values()\n",
    "    \n",
    "    baseline_threshold.append((np.percentile(a-b,5),np.percentile(a-b,50),np.percentile(a-b,95)))\n",
    "baseline_threshold = np.stack(baseline_threshold)    \n",
    "baseline_threshold    \n"
   ]
  },
  {
   "cell_type": "code",
   "execution_count": 114,
   "metadata": {
    "code_folding": [
     0,
     1
    ],
    "hidden": true
   },
   "outputs": [
    {
     "data": {
      "text/html": [
       "<div>\n",
       "<style scoped>\n",
       "    .dataframe tbody tr th:only-of-type {\n",
       "        vertical-align: middle;\n",
       "    }\n",
       "\n",
       "    .dataframe tbody tr th {\n",
       "        vertical-align: top;\n",
       "    }\n",
       "\n",
       "    .dataframe thead th {\n",
       "        text-align: right;\n",
       "    }\n",
       "</style>\n",
       "<table border=\"1\" class=\"dataframe\">\n",
       "  <thead>\n",
       "    <tr style=\"text-align: right;\">\n",
       "      <th></th>\n",
       "      <th>group</th>\n",
       "      <th>wordNo</th>\n",
       "      <th>subject</th>\n",
       "      <th>session</th>\n",
       "      <th>mean_score_ratio</th>\n",
       "      <th>type</th>\n",
       "      <th>data</th>\n",
       "    </tr>\n",
       "  </thead>\n",
       "  <tbody>\n",
       "    <tr>\n",
       "      <th>0</th>\n",
       "      <td>1</td>\n",
       "      <td>1</td>\n",
       "      <td>ayoub</td>\n",
       "      <td>1</td>\n",
       "      <td>0.894930</td>\n",
       "      <td>NoChange</td>\n",
       "      <td>1</td>\n",
       "    </tr>\n",
       "    <tr>\n",
       "      <th>1</th>\n",
       "      <td>1</td>\n",
       "      <td>2</td>\n",
       "      <td>ayoub</td>\n",
       "      <td>1</td>\n",
       "      <td>0.892076</td>\n",
       "      <td>NoChange</td>\n",
       "      <td>1</td>\n",
       "    </tr>\n",
       "    <tr>\n",
       "      <th>2</th>\n",
       "      <td>1</td>\n",
       "      <td>3</td>\n",
       "      <td>ayoub</td>\n",
       "      <td>1</td>\n",
       "      <td>1.052209</td>\n",
       "      <td>NoChange</td>\n",
       "      <td>1</td>\n",
       "    </tr>\n",
       "    <tr>\n",
       "      <th>3</th>\n",
       "      <td>1</td>\n",
       "      <td>4</td>\n",
       "      <td>ayoub</td>\n",
       "      <td>1</td>\n",
       "      <td>1.284017</td>\n",
       "      <td>NoChange</td>\n",
       "      <td>1</td>\n",
       "    </tr>\n",
       "    <tr>\n",
       "      <th>4</th>\n",
       "      <td>1</td>\n",
       "      <td>5</td>\n",
       "      <td>ayoub</td>\n",
       "      <td>1</td>\n",
       "      <td>1.531036</td>\n",
       "      <td>NoChange</td>\n",
       "      <td>0</td>\n",
       "    </tr>\n",
       "  </tbody>\n",
       "</table>\n",
       "</div>"
      ],
      "text/plain": [
       "   group  wordNo subject  session  mean_score_ratio      type  data\n",
       "0      1       1   ayoub        1          0.894930  NoChange     1\n",
       "1      1       2   ayoub        1          0.892076  NoChange     1\n",
       "2      1       3   ayoub        1          1.052209  NoChange     1\n",
       "3      1       4   ayoub        1          1.284017  NoChange     1\n",
       "4      1       5   ayoub        1          1.531036  NoChange     0"
      ]
     },
     "execution_count": 114,
     "metadata": {},
     "output_type": "execute_result"
    }
   ],
   "source": [
    "# convergence computation\n",
    "def get_convergence(A,baseline_threshold):\n",
    "\n",
    "    strategies = []\n",
    "    for i in range(0,A.shape[0]):        \n",
    "        s = A.iloc[i]['subject']\n",
    "        s_idx = subject_name.index(s)\n",
    "        p = partner_name[s_idx]\n",
    "        \n",
    "        a = A.iloc[i]['GMM_'+s] - A.iloc[i]['GMM_'+p]\n",
    "        \n",
    "        \n",
    "        NoChange = 0\n",
    "        Convergence = 0\n",
    "        Divergence = 0\n",
    "        score_diff=0\n",
    "        if(baseline_threshold[s_idx,0]<a<baseline_threshold[s_idx,2]):\n",
    "            NoChange = 1\n",
    "        elif(baseline_threshold[s_idx,0]>=a):\n",
    "            Convergence = 1\n",
    "        elif(baseline_threshold[s_idx,2]<=a):\n",
    "            Divergence = 1\n",
    "            \n",
    "        aa = np.where(np.asarray(subject_name)==A.iloc[i]['subject'])[0][0]\n",
    "        \n",
    "        \n",
    "        a = pd.DataFrame({'group':subject_group_no[aa]-1,'wordNo':A.iloc[i]['wordNo'],\n",
    "                          'subject':A.iloc[i]['subject'],\n",
    "                          'session':session_name.index(A.iloc[i]['session']),\n",
    "                          'NoChange':[NoChange],'Convergence':Convergence,\n",
    "                          'Divergence':Divergence,\n",
    "                          'mean_score_ratio':a / baseline_threshold[s_idx,1]})    \n",
    "        strategies.append(a)     \n",
    "\n",
    "    strategies = pd.concat((strategies),axis=0)\n",
    "    return strategies\n",
    "\n",
    "\n",
    "strategies = get_convergence(duet_scores,baseline_threshold)\n",
    "strategies = strategies.melt(['group','wordNo','subject','session','mean_score_ratio'], \n",
    "                             var_name='type', value_name='data')\n",
    "strategies.head()"
   ]
  },
  {
   "cell_type": "markdown",
   "metadata": {
    "heading_collapsed": true,
    "hidden": true
   },
   "source": [
    "### Visualize the results"
   ]
  },
  {
   "cell_type": "code",
   "execution_count": 118,
   "metadata": {
    "code_folding": [
     0,
     7
    ],
    "hidden": true
   },
   "outputs": [
    {
     "data": {
      "image/png": "[encoded data removed]",
      "text/plain": [
       "<Figure size 1080x432 with 1 Axes>"
      ]
     },
     "metadata": {},
     "output_type": "display_data"
    }
   ],
   "source": [
    "# Plot\n",
    "sns.set(font_scale=1.5)\n",
    "\n",
    "\n",
    "f, AX = plt.subplots(figsize=(15,6))\n",
    "\n",
    "ax = sns.barplot(x=\"subject\", y=\"data\", hue='type',data=strategies)\n",
    "def change_width(ax, new_value) :\n",
    "    for patch in ax.patches :\n",
    "        current_width = patch.get_width()\n",
    "        diff = current_width - new_value\n",
    "\n",
    "        # we change the bar width\n",
    "        patch.set_width(new_value)\n",
    "\n",
    "        # we recenter the bar\n",
    "        patch.set_x(patch.get_x() + diff * .5)\n",
    "\n",
    "#change_width(ax, .65)\n",
    "_=plt.ylabel('No of times')\n",
    "#_=plt.xlim([-1,10])"
   ]
  },
  {
   "cell_type": "code",
   "execution_count": null,
   "metadata": {
    "hidden": true
   },
   "outputs": [],
   "source": []
  }
 ],
 "metadata": {
  "kernelspec": {
   "display_name": "Python 3",
   "language": "python",
   "name": "python3"
  },
  "language_info": {
   "codemirror_mode": {
    "name": "ipython",
    "version": 3
   },
   "file_extension": ".py",
   "mimetype": "text/x-python",
   "name": "python",
   "nbconvert_exporter": "python",
   "pygments_lexer": "ipython3",
   "version": "3.6.0"
  }
 },
 "nbformat": 4,
 "nbformat_minor": 2
}
