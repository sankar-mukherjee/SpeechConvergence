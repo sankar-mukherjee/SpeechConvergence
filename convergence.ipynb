{
 "cells": [
  {
   "cell_type": "markdown",
   "metadata": {},
   "source": [
    "# Speech Convergence"
   ]
  },
  {
   "cell_type": "markdown",
   "metadata": {},
   "source": [
    "Convergence is computed on word pairs. For a word pair to be a convergent one, the acoustic properties of the words for the two speakers must become more similar to each other."
   ]
  },
  {
   "cell_type": "markdown",
   "metadata": {},
   "source": [
    "![title](docs/img/Convergence_criteria.png)\n"
   ]
  },
  {
   "cell_type": "markdown",
   "metadata": {},
   "source": [
    "## Run the notebook"
   ]
  },
  {
   "cell_type": "code",
   "execution_count": 109,
   "metadata": {
    "code_folding": [
     0
    ]
   },
   "outputs": [],
   "source": [
    "# init\n",
    "import numpy as np\n",
    "import os\n",
    "import warnings\n",
    "warnings.filterwarnings('ignore')\n",
    "from IPython.display import clear_output\n",
    "import seaborn as sns\n",
    "from matplotlib import pyplot as plt\n",
    "import pandas as pd\n",
    "%matplotlib inline\n",
    "\n",
    "subject_name = ['stella','juliet','shai','ayoub','lucas','simone','henry', 'julien',\n",
    "                'marion','elvira']\n",
    "partner_name = ['juliet','stella','ayoub','shai','simone','lucas','julien', 'henry', \n",
    "                'elvira','marion']\n",
    "subject_group_no = [1,1,2,2,3,3,4,4,5,5]\n",
    "\n",
    "session_name = ['pre','duet1', 'duet2', 'duet3' ,'duet4','duet5','duet6','post']\n"
   ]
  },
  {
   "cell_type": "code",
   "execution_count": 54,
   "metadata": {
    "code_folding": [
     0
    ]
   },
   "outputs": [
    {
     "data": {
      "text/html": [
       "<div>\n",
       "<style scoped>\n",
       "    .dataframe tbody tr th:only-of-type {\n",
       "        vertical-align: middle;\n",
       "    }\n",
       "\n",
       "    .dataframe tbody tr th {\n",
       "        vertical-align: top;\n",
       "    }\n",
       "\n",
       "    .dataframe thead th {\n",
       "        text-align: right;\n",
       "    }\n",
       "</style>\n",
       "<table border=\"1\" class=\"dataframe\">\n",
       "  <thead>\n",
       "    <tr style=\"text-align: right;\">\n",
       "      <th></th>\n",
       "      <th>subject</th>\n",
       "      <th>session</th>\n",
       "      <th>wordNo</th>\n",
       "      <th>GMM_stella</th>\n",
       "      <th>GMM_juliet</th>\n",
       "      <th>GMM_shai</th>\n",
       "      <th>GMM_ayoub</th>\n",
       "      <th>GMM_lucas</th>\n",
       "      <th>GMM_simone</th>\n",
       "      <th>GMM_henry</th>\n",
       "      <th>GMM_julien</th>\n",
       "      <th>GMM_marion</th>\n",
       "      <th>GMM_elvira</th>\n",
       "      <th>wordIDX</th>\n",
       "    </tr>\n",
       "  </thead>\n",
       "  <tbody>\n",
       "    <tr>\n",
       "      <th>0</th>\n",
       "      <td>ayoub</td>\n",
       "      <td>duet1</td>\n",
       "      <td>1</td>\n",
       "      <td>-0.480712</td>\n",
       "      <td>-1.815762</td>\n",
       "      <td>-1.274695</td>\n",
       "      <td>0.607142</td>\n",
       "      <td>-1.170618</td>\n",
       "      <td>0.199055</td>\n",
       "      <td>-1.024775</td>\n",
       "      <td>0.316127</td>\n",
       "      <td>-0.936675</td>\n",
       "      <td>0.059304</td>\n",
       "      <td>duet1_1</td>\n",
       "    </tr>\n",
       "    <tr>\n",
       "      <th>0</th>\n",
       "      <td>ayoub</td>\n",
       "      <td>duet1</td>\n",
       "      <td>2</td>\n",
       "      <td>-0.682439</td>\n",
       "      <td>-0.463548</td>\n",
       "      <td>-0.883312</td>\n",
       "      <td>0.992523</td>\n",
       "      <td>-0.911162</td>\n",
       "      <td>-0.282451</td>\n",
       "      <td>-0.735117</td>\n",
       "      <td>-0.426528</td>\n",
       "      <td>-0.692185</td>\n",
       "      <td>-0.647229</td>\n",
       "      <td>duet1_2</td>\n",
       "    </tr>\n",
       "    <tr>\n",
       "      <th>0</th>\n",
       "      <td>ayoub</td>\n",
       "      <td>duet1</td>\n",
       "      <td>3</td>\n",
       "      <td>0.252974</td>\n",
       "      <td>-1.128935</td>\n",
       "      <td>-1.544956</td>\n",
       "      <td>0.667604</td>\n",
       "      <td>-0.862632</td>\n",
       "      <td>-0.434648</td>\n",
       "      <td>-1.276315</td>\n",
       "      <td>-0.124275</td>\n",
       "      <td>-0.978689</td>\n",
       "      <td>0.478533</td>\n",
       "      <td>duet1_3</td>\n",
       "    </tr>\n",
       "    <tr>\n",
       "      <th>0</th>\n",
       "      <td>ayoub</td>\n",
       "      <td>duet1</td>\n",
       "      <td>4</td>\n",
       "      <td>-0.283780</td>\n",
       "      <td>-1.516061</td>\n",
       "      <td>-1.193692</td>\n",
       "      <td>1.506307</td>\n",
       "      <td>-0.982213</td>\n",
       "      <td>0.077695</td>\n",
       "      <td>-1.697411</td>\n",
       "      <td>0.357814</td>\n",
       "      <td>-1.646500</td>\n",
       "      <td>0.064793</td>\n",
       "      <td>duet1_4</td>\n",
       "    </tr>\n",
       "    <tr>\n",
       "      <th>0</th>\n",
       "      <td>ayoub</td>\n",
       "      <td>duet1</td>\n",
       "      <td>5</td>\n",
       "      <td>0.123190</td>\n",
       "      <td>-1.488713</td>\n",
       "      <td>-1.944007</td>\n",
       "      <td>1.275417</td>\n",
       "      <td>-1.430166</td>\n",
       "      <td>-0.326952</td>\n",
       "      <td>-1.817676</td>\n",
       "      <td>0.375320</td>\n",
       "      <td>-1.583974</td>\n",
       "      <td>0.147306</td>\n",
       "      <td>duet1_5</td>\n",
       "    </tr>\n",
       "  </tbody>\n",
       "</table>\n",
       "</div>"
      ],
      "text/plain": [
       "  subject session  wordNo  GMM_stella  GMM_juliet  GMM_shai  GMM_ayoub  \\\n",
       "0   ayoub   duet1       1   -0.480712   -1.815762 -1.274695   0.607142   \n",
       "0   ayoub   duet1       2   -0.682439   -0.463548 -0.883312   0.992523   \n",
       "0   ayoub   duet1       3    0.252974   -1.128935 -1.544956   0.667604   \n",
       "0   ayoub   duet1       4   -0.283780   -1.516061 -1.193692   1.506307   \n",
       "0   ayoub   duet1       5    0.123190   -1.488713 -1.944007   1.275417   \n",
       "\n",
       "   GMM_lucas  GMM_simone  GMM_henry  GMM_julien  GMM_marion  GMM_elvira  \\\n",
       "0  -1.170618    0.199055  -1.024775    0.316127   -0.936675    0.059304   \n",
       "0  -0.911162   -0.282451  -0.735117   -0.426528   -0.692185   -0.647229   \n",
       "0  -0.862632   -0.434648  -1.276315   -0.124275   -0.978689    0.478533   \n",
       "0  -0.982213    0.077695  -1.697411    0.357814   -1.646500    0.064793   \n",
       "0  -1.430166   -0.326952  -1.817676    0.375320   -1.583974    0.147306   \n",
       "\n",
       "   wordIDX  \n",
       "0  duet1_1  \n",
       "0  duet1_2  \n",
       "0  duet1_3  \n",
       "0  duet1_4  \n",
       "0  duet1_5  "
      ]
     },
     "execution_count": 54,
     "metadata": {},
     "output_type": "execute_result"
    }
   ],
   "source": [
    "# load data\n",
    "duet_scores = pd.read_pickle('data/duet_scores.pkl')\n",
    "duet_scores  = duet_scores.sort_values(by=['subject','session', 'wordNo'])\n",
    "duet_scores.head()"
   ]
  },
  {
   "cell_type": "markdown",
   "metadata": {
    "heading_collapsed": true
   },
   "source": [
    "### Convergence criteria\n",
    "Compute the distribution of LLR score difference between own model and partner model. We call it baseline_threshold and we get it for each speaker. We get the 5 , 50 and 95 percentile of this distribution.\n",
    "\n",
    "For test speech we compute the LLR score difference (y) between own model and partner model. Now if:\n",
    "\n",
    "    baseline_threshold(5)< y < baseline_threshold(95) = No change\n",
    "    y <= baseline_threshold(5) = Convergence\n",
    "    y >= baseline_threshold(95) = Divergence\n",
    "    "
   ]
  },
  {
   "cell_type": "code",
   "execution_count": 107,
   "metadata": {
    "code_folding": [
     0
    ],
    "hidden": true
   },
   "outputs": [
    {
     "name": "stdout",
     "output_type": "stream",
     "text": [
      "baseline threshold is computed on the session = post\n"
     ]
    },
    {
     "data": {
      "text/plain": [
       "array([[ 0.33365847,  1.47353121,  2.68193454],\n",
       "       [ 0.04267303,  1.07165722,  1.7855889 ],\n",
       "       [ 0.7557219 ,  1.53970878,  2.37345243],\n",
       "       [ 0.99759301,  2.10277477,  3.15677467],\n",
       "       [ 0.2416694 ,  0.80858375,  1.2396514 ],\n",
       "       [-0.165991  ,  0.73900217,  1.37287568],\n",
       "       [ 0.76510855,  1.41287124,  2.2386854 ],\n",
       "       [ 0.84049534,  1.69905127,  2.77409626],\n",
       "       [ 0.60807674,  1.50376999,  2.35127932],\n",
       "       [ 0.33741813,  1.53726791,  2.54546658]])"
      ]
     },
     "execution_count": 107,
     "metadata": {},
     "output_type": "execute_result"
    }
   ],
   "source": [
    "# compute baseline threshold for each subjects with [5 50 95] percentile\n",
    "session = session_name[7]\n",
    "print('baseline threshold is computed on the session = '+session)\n",
    "\n",
    "baseline_threshold = []\n",
    "for i in range(0,len(subject_name)):\n",
    "    s=subject_name[i]\n",
    "    p=partner_name[i]\n",
    "    a=duet_scores[(duet_scores['session']==session)&\n",
    "                  (duet_scores['subject']==s)]['GMM_'+s].get_values()\n",
    "\n",
    "    b=duet_scores[(duet_scores['session']==session)&\n",
    "                  (duet_scores['subject']==s)]['GMM_'+p].get_values()\n",
    "    \n",
    "    baseline_threshold.append((np.percentile(a-b,5),np.percentile(a-b,50),np.percentile(a-b,95)))\n",
    "baseline_threshold = np.stack(baseline_threshold)    \n",
    "baseline_threshold    \n"
   ]
  },
  {
   "cell_type": "code",
   "execution_count": 114,
   "metadata": {
    "code_folding": [
     0,
     1
    ],
    "hidden": true
   },
   "outputs": [
    {
     "data": {
      "text/html": [
       "<div>\n",
       "<style scoped>\n",
       "    .dataframe tbody tr th:only-of-type {\n",
       "        vertical-align: middle;\n",
       "    }\n",
       "\n",
       "    .dataframe tbody tr th {\n",
       "        vertical-align: top;\n",
       "    }\n",
       "\n",
       "    .dataframe thead th {\n",
       "        text-align: right;\n",
       "    }\n",
       "</style>\n",
       "<table border=\"1\" class=\"dataframe\">\n",
       "  <thead>\n",
       "    <tr style=\"text-align: right;\">\n",
       "      <th></th>\n",
       "      <th>group</th>\n",
       "      <th>wordNo</th>\n",
       "      <th>subject</th>\n",
       "      <th>session</th>\n",
       "      <th>mean_score_ratio</th>\n",
       "      <th>type</th>\n",
       "      <th>data</th>\n",
       "    </tr>\n",
       "  </thead>\n",
       "  <tbody>\n",
       "    <tr>\n",
       "      <th>0</th>\n",
       "      <td>1</td>\n",
       "      <td>1</td>\n",
       "      <td>ayoub</td>\n",
       "      <td>1</td>\n",
       "      <td>0.894930</td>\n",
       "      <td>NoChange</td>\n",
       "      <td>1</td>\n",
       "    </tr>\n",
       "    <tr>\n",
       "      <th>1</th>\n",
       "      <td>1</td>\n",
       "      <td>2</td>\n",
       "      <td>ayoub</td>\n",
       "      <td>1</td>\n",
       "      <td>0.892076</td>\n",
       "      <td>NoChange</td>\n",
       "      <td>1</td>\n",
       "    </tr>\n",
       "    <tr>\n",
       "      <th>2</th>\n",
       "      <td>1</td>\n",
       "      <td>3</td>\n",
       "      <td>ayoub</td>\n",
       "      <td>1</td>\n",
       "      <td>1.052209</td>\n",
       "      <td>NoChange</td>\n",
       "      <td>1</td>\n",
       "    </tr>\n",
       "    <tr>\n",
       "      <th>3</th>\n",
       "      <td>1</td>\n",
       "      <td>4</td>\n",
       "      <td>ayoub</td>\n",
       "      <td>1</td>\n",
       "      <td>1.284017</td>\n",
       "      <td>NoChange</td>\n",
       "      <td>1</td>\n",
       "    </tr>\n",
       "    <tr>\n",
       "      <th>4</th>\n",
       "      <td>1</td>\n",
       "      <td>5</td>\n",
       "      <td>ayoub</td>\n",
       "      <td>1</td>\n",
       "      <td>1.531036</td>\n",
       "      <td>NoChange</td>\n",
       "      <td>0</td>\n",
       "    </tr>\n",
       "  </tbody>\n",
       "</table>\n",
       "</div>"
      ],
      "text/plain": [
       "   group  wordNo subject  session  mean_score_ratio      type  data\n",
       "0      1       1   ayoub        1          0.894930  NoChange     1\n",
       "1      1       2   ayoub        1          0.892076  NoChange     1\n",
       "2      1       3   ayoub        1          1.052209  NoChange     1\n",
       "3      1       4   ayoub        1          1.284017  NoChange     1\n",
       "4      1       5   ayoub        1          1.531036  NoChange     0"
      ]
     },
     "execution_count": 114,
     "metadata": {},
     "output_type": "execute_result"
    }
   ],
   "source": [
    "# convergence computation\n",
    "def get_convergence(A,baseline_threshold):\n",
    "\n",
    "    strategies = []\n",
    "    for i in range(0,A.shape[0]):        \n",
    "        s = A.iloc[i]['subject']\n",
    "        s_idx = subject_name.index(s)\n",
    "        p = partner_name[s_idx]\n",
    "        \n",
    "        a = A.iloc[i]['GMM_'+s] - A.iloc[i]['GMM_'+p]\n",
    "        \n",
    "        \n",
    "        NoChange = 0\n",
    "        Convergence = 0\n",
    "        Divergence = 0\n",
    "        score_diff=0\n",
    "        if(baseline_threshold[s_idx,0]<a<baseline_threshold[s_idx,2]):\n",
    "            NoChange = 1\n",
    "        elif(baseline_threshold[s_idx,0]>=a):\n",
    "            Convergence = 1\n",
    "        elif(baseline_threshold[s_idx,2]<=a):\n",
    "            Divergence = 1\n",
    "            \n",
    "        aa = np.where(np.asarray(subject_name)==A.iloc[i]['subject'])[0][0]\n",
    "        \n",
    "        \n",
    "        a = pd.DataFrame({'group':subject_group_no[aa]-1,'wordNo':A.iloc[i]['wordNo'],\n",
    "                          'subject':A.iloc[i]['subject'],\n",
    "                          'session':session_name.index(A.iloc[i]['session']),\n",
    "                          'NoChange':[NoChange],'Convergence':Convergence,\n",
    "                          'Divergence':Divergence,\n",
    "                          'mean_score_ratio':a / baseline_threshold[s_idx,1]})    \n",
    "        strategies.append(a)     \n",
    "\n",
    "    strategies = pd.concat((strategies),axis=0)\n",
    "    return strategies\n",
    "\n",
    "\n",
    "strategies = get_convergence(duet_scores,baseline_threshold)\n",
    "strategies = strategies.melt(['group','wordNo','subject','session','mean_score_ratio'], \n",
    "                             var_name='type', value_name='data')\n",
    "strategies.head()"
   ]
  },
  {
   "cell_type": "markdown",
   "metadata": {},
   "source": [
    "### visualize the results"
   ]
  },
  {
   "cell_type": "code",
   "execution_count": 118,
   "metadata": {
    "code_folding": [
     0,
     7
    ]
   },
   "outputs": [
    {
     "data": {
      "image/png": "[encoded data removed]",
      "text/plain": [
       "<Figure size 1080x432 with 1 Axes>"
      ]
     },
     "metadata": {},
     "output_type": "display_data"
    }
   ],
   "source": [
    "# Plot\n",
    "sns.set(font_scale=1.5)\n",
    "\n",
    "\n",
    "f, AX = plt.subplots(figsize=(15,6))\n",
    "\n",
    "ax = sns.barplot(x=\"subject\", y=\"data\", hue='type',data=strategies)\n",
    "def change_width(ax, new_value) :\n",
    "    for patch in ax.patches :\n",
    "        current_width = patch.get_width()\n",
    "        diff = current_width - new_value\n",
    "\n",
    "        # we change the bar width\n",
    "        patch.set_width(new_value)\n",
    "\n",
    "        # we recenter the bar\n",
    "        patch.set_x(patch.get_x() + diff * .5)\n",
    "\n",
    "#change_width(ax, .65)\n",
    "_=plt.ylabel('No of times')\n",
    "#_=plt.xlim([-1,10])"
   ]
  },
  {
   "cell_type": "code",
   "execution_count": null,
   "metadata": {},
   "outputs": [],
   "source": []
  },
  {
   "cell_type": "code",
   "execution_count": null,
   "metadata": {},
   "outputs": [],
   "source": []
  },
  {
   "cell_type": "markdown",
   "metadata": {},
   "source": [
    "# old"
   ]
  },
  {
   "cell_type": "code",
   "execution_count": 28,
   "metadata": {
    "code_folding": [
     0
    ]
   },
   "outputs": [
    {
     "data": {
      "text/html": [
       "<div>\n",
       "<style scoped>\n",
       "    .dataframe tbody tr th:only-of-type {\n",
       "        vertical-align: middle;\n",
       "    }\n",
       "\n",
       "    .dataframe tbody tr th {\n",
       "        vertical-align: top;\n",
       "    }\n",
       "\n",
       "    .dataframe thead th {\n",
       "        text-align: right;\n",
       "    }\n",
       "</style>\n",
       "<table border=\"1\" class=\"dataframe\">\n",
       "  <thead>\n",
       "    <tr style=\"text-align: right;\">\n",
       "      <th></th>\n",
       "      <th>group</th>\n",
       "      <th>wordNo</th>\n",
       "      <th>subject</th>\n",
       "      <th>session</th>\n",
       "      <th>NoChange</th>\n",
       "      <th>Convergence</th>\n",
       "      <th>Divergence</th>\n",
       "      <th>mean_score_ratio</th>\n",
       "      <th>data</th>\n",
       "    </tr>\n",
       "  </thead>\n",
       "  <tbody>\n",
       "    <tr>\n",
       "      <th>0</th>\n",
       "      <td>0</td>\n",
       "      <td>1</td>\n",
       "      <td>stella</td>\n",
       "      <td>1</td>\n",
       "      <td>1</td>\n",
       "      <td>0</td>\n",
       "      <td>0</td>\n",
       "      <td>1.190514</td>\n",
       "      <td>[1.0, 0.0, 0.0]</td>\n",
       "    </tr>\n",
       "    <tr>\n",
       "      <th>0</th>\n",
       "      <td>0</td>\n",
       "      <td>1</td>\n",
       "      <td>juliet</td>\n",
       "      <td>1</td>\n",
       "      <td>1</td>\n",
       "      <td>0</td>\n",
       "      <td>0</td>\n",
       "      <td>0.949425</td>\n",
       "      <td>[1.0, 0.0, 0.0]</td>\n",
       "    </tr>\n",
       "    <tr>\n",
       "      <th>0</th>\n",
       "      <td>0</td>\n",
       "      <td>2</td>\n",
       "      <td>stella</td>\n",
       "      <td>1</td>\n",
       "      <td>1</td>\n",
       "      <td>0</td>\n",
       "      <td>0</td>\n",
       "      <td>1.337898</td>\n",
       "      <td>[1.0, 0.0, 0.0]</td>\n",
       "    </tr>\n",
       "    <tr>\n",
       "      <th>0</th>\n",
       "      <td>0</td>\n",
       "      <td>2</td>\n",
       "      <td>juliet</td>\n",
       "      <td>1</td>\n",
       "      <td>1</td>\n",
       "      <td>0</td>\n",
       "      <td>0</td>\n",
       "      <td>1.040852</td>\n",
       "      <td>[1.0, 0.0, 0.0]</td>\n",
       "    </tr>\n",
       "    <tr>\n",
       "      <th>0</th>\n",
       "      <td>0</td>\n",
       "      <td>3</td>\n",
       "      <td>stella</td>\n",
       "      <td>1</td>\n",
       "      <td>0</td>\n",
       "      <td>0</td>\n",
       "      <td>1</td>\n",
       "      <td>1.943083</td>\n",
       "      <td>[0.0, 0.0, 1.0]</td>\n",
       "    </tr>\n",
       "  </tbody>\n",
       "</table>\n",
       "</div>"
      ],
      "text/plain": [
       "   group  wordNo subject  session  NoChange  Convergence  Divergence  \\\n",
       "0      0       1  stella        1         1            0           0   \n",
       "0      0       1  juliet        1         1            0           0   \n",
       "0      0       2  stella        1         1            0           0   \n",
       "0      0       2  juliet        1         1            0           0   \n",
       "0      0       3  stella        1         0            0           1   \n",
       "\n",
       "   mean_score_ratio             data  \n",
       "0          1.190514  [1.0, 0.0, 0.0]  \n",
       "0          0.949425  [1.0, 0.0, 0.0]  \n",
       "0          1.337898  [1.0, 0.0, 0.0]  \n",
       "0          1.040852  [1.0, 0.0, 0.0]  \n",
       "0          1.943083  [0.0, 0.0, 1.0]  "
      ]
     },
     "execution_count": 28,
     "metadata": {},
     "output_type": "execute_result"
    }
   ],
   "source": [
    "def get_convergence(A,baseline_threshold):\n",
    "\n",
    "    strategies = []\n",
    "    for i in range(0,A.shape[0]):        \n",
    "        s = A.iloc[i]['subject']\n",
    "        s_idx = subject_name.index(s)\n",
    "        p = partner_name[s_idx]\n",
    "        \n",
    "        a = A.iloc[i]['GMM_'+s] - A.iloc[i]['GMM_'+p]\n",
    "        \n",
    "        \n",
    "        NoChange = 0\n",
    "        Convergence = 0\n",
    "        Divergence = 0\n",
    "        score_diff=0\n",
    "        if(baseline_threshold[s_idx,0]<a<baseline_threshold[s_idx,2]):\n",
    "            NoChange = 1\n",
    "        elif(baseline_threshold[s_idx,0]>=a):\n",
    "            Convergence = 1\n",
    "        elif(baseline_threshold[s_idx,2]<=a):\n",
    "            Divergence = 1\n",
    "            \n",
    "        aa = np.where(np.asarray(subject_name)==A.iloc[i]['subject'])[0][0]\n",
    "        X = np.zeros((1,3))[0]\n",
    "        X[0] = NoChange\n",
    "        X[1] = Convergence\n",
    "        X[2] = Divergence\n",
    "\n",
    "        \n",
    "        a = pd.DataFrame({'group':subject_group_no[aa]-1,'wordNo':A.iloc[i]['wordNo'],\n",
    "                          'subject':A.iloc[i]['subject'],\n",
    "                          'session':session_name.index(A.iloc[i]['session']),\n",
    "                          'NoChange':[NoChange],'Convergence':Convergence,\n",
    "                          'Divergence':Divergence,\n",
    "                          'mean_score_ratio':a / baseline_threshold[s_idx,1],\n",
    "                         'data':[X]})    \n",
    "        strategies.append(a)     \n",
    "\n",
    "    strategies = pd.concat((strategies),axis=0)\n",
    "    return strategies\n",
    "\n",
    "\n",
    "\n",
    "strategies = get_convergence(A,baseline_threshold)\n",
    "strategies = strategies.sort_values([ 'group','wordNo'], ascending=True)\n",
    "\n",
    "strategies.head()"
   ]
  },
  {
   "cell_type": "code",
   "execution_count": 72,
   "metadata": {},
   "outputs": [],
   "source": [
    "# select group\n",
    "g=4\n",
    "# averaging over word points \n",
    "w=50\n",
    "# get replication dynamics data\n",
    "k=4"
   ]
  },
  {
   "cell_type": "code",
   "execution_count": 76,
   "metadata": {
    "code_folding": [
     3,
     18
    ]
   },
   "outputs": [
    {
     "name": "stdout",
     "output_type": "stream",
     "text": [
      "297\n",
      "5\n"
     ]
    },
    {
     "name": "stderr",
     "output_type": "stream",
     "text": [
      "1it [00:00,  6.41it/s]\n"
     ]
    },
    {
     "data": {
      "image/png": "[encoded data removed]",
      "text/plain": [
       "<Figure size 432x432 with 2 Axes>"
      ]
     },
     "metadata": {},
     "output_type": "display_data"
    }
   ],
   "source": [
    "#\n",
    "\n",
    "\n",
    "def select_group(strategies_sort,g):\n",
    "    a = strategies_sort[strategies_sort['group']==g]\n",
    "    unique, counts = np.unique(a['wordNo'].get_values(), return_counts=True)\n",
    "    unique = np.delete(unique,[np.where(counts==1)])   # remove for missing word\n",
    "\n",
    "    a = strategies_sort[(strategies_sort['group']==g) & (strategies_sort['wordNo'].isin(unique))]['data']\n",
    "    a = np.stack(a)\n",
    "    #a.shape  # should be even\n",
    "    X = np.array_split(a,a.shape[0]/2)\n",
    "    return X\n",
    "\n",
    "X = select_group(strategies,g)\n",
    "print(len(X))\n",
    "\n",
    "\n",
    "def get_group(X,g):\n",
    "    # grouping \n",
    "    xx = np.array_split(np.arange(0,len(X)),np.floor(len(X)/g))\n",
    "\n",
    "    X_avg = []\n",
    "    for i in range(0,len(xx)):\n",
    "        x = np.dstack(X[xx[i][0]:xx[i][-1]])\n",
    "        x = np.mean(x,axis=2)\n",
    "        X_avg.append(x)\n",
    "    return X_avg\n",
    "\n",
    "X_avg = get_group(X,w)\n",
    "print(len(X_avg))\n",
    "\n",
    "\n",
    "\n",
    "\n",
    "def plot_RD(x):\n",
    "    # replication dynamics\n",
    "    z = np.vstack((x,np.zeros((1,3))[0]))\n",
    "    b=z.flatten()/g\n",
    "\n",
    "    z=[]\n",
    "    for i in range(0,9):\n",
    "        z.append([b[i]])\n",
    "        \n",
    "    return z\n",
    "\n",
    "\n",
    "z=plot_RD(X_avg[k])\n",
    "\n",
    "simplex = plot_static(z, vert_labels=['NoChange', 'Convergence', 'Divergence'],background=True)"
   ]
  },
  {
   "cell_type": "code",
   "execution_count": 87,
   "metadata": {},
   "outputs": [
    {
     "data": {
      "text/plain": [
       "array([[0.77586207, 0.15517241, 0.06896552],\n",
       "       [0.74137931, 0.05172414, 0.20689655]])"
      ]
     },
     "execution_count": 87,
     "metadata": {},
     "output_type": "execute_result"
    }
   ],
   "source": [
    "X_avg[k]"
   ]
  },
  {
   "cell_type": "code",
   "execution_count": 77,
   "metadata": {},
   "outputs": [
    {
     "data": {
      "text/plain": [
       "[[0.1939655172413793],\n",
       " [0.03879310344827586],\n",
       " [0.017241379310344827],\n",
       " [0.1853448275862069],\n",
       " [0.01293103448275862],\n",
       " [0.05172413793103448],\n",
       " [0.0],\n",
       " [0.0],\n",
       " [0.0]]"
      ]
     },
     "execution_count": 77,
     "metadata": {},
     "output_type": "execute_result"
    }
   ],
   "source": [
    "z"
   ]
  },
  {
   "cell_type": "code",
   "execution_count": 86,
   "metadata": {
    "code_folding": [],
    "scrolled": true
   },
   "outputs": [
    {
     "name": "stderr",
     "output_type": "stream",
     "text": [
      "\n",
      "0it [00:00, ?it/s]\n"
     ]
    },
    {
     "ename": "ValueError",
     "evalue": "cannot reshape array of size 3 into shape (3,3)",
     "output_type": "error",
     "traceback": [
      "\u001b[1;31m---------------------------------------------------------------------------\u001b[0m",
      "\u001b[1;31mAttributeError\u001b[0m                            Traceback (most recent call last)",
      "\u001b[1;32m~\\Anaconda3\\lib\\site-packages\\numpy\\core\\fromnumeric.py\u001b[0m in \u001b[0;36m_wrapfunc\u001b[1;34m(obj, method, *args, **kwds)\u001b[0m\n\u001b[0;32m     50\u001b[0m     \u001b[1;32mtry\u001b[0m\u001b[1;33m:\u001b[0m\u001b[1;33m\u001b[0m\u001b[0m\n\u001b[1;32m---> 51\u001b[1;33m         \u001b[1;32mreturn\u001b[0m \u001b[0mgetattr\u001b[0m\u001b[1;33m(\u001b[0m\u001b[0mobj\u001b[0m\u001b[1;33m,\u001b[0m \u001b[0mmethod\u001b[0m\u001b[1;33m)\u001b[0m\u001b[1;33m(\u001b[0m\u001b[1;33m*\u001b[0m\u001b[0margs\u001b[0m\u001b[1;33m,\u001b[0m \u001b[1;33m**\u001b[0m\u001b[0mkwds\u001b[0m\u001b[1;33m)\u001b[0m\u001b[1;33m\u001b[0m\u001b[0m\n\u001b[0m\u001b[0;32m     52\u001b[0m \u001b[1;33m\u001b[0m\u001b[0m\n",
      "\u001b[1;31mAttributeError\u001b[0m: 'tuple' object has no attribute 'reshape'",
      "\nDuring handling of the above exception, another exception occurred:\n",
      "\u001b[1;31mValueError\u001b[0m                                Traceback (most recent call last)",
      "\u001b[1;32m<ipython-input-86-3cc03079be07>\u001b[0m in \u001b[0;36m<module>\u001b[1;34m\u001b[0m\n\u001b[0;32m      4\u001b[0m             [1 - gamma, 1 - gamma, 1 - gamma]]\n\u001b[0;32m      5\u001b[0m \u001b[0mz\u001b[0m \u001b[1;33m=\u001b[0m \u001b[1;33m[\u001b[0m\u001b[1;33m[\u001b[0m\u001b[1;36m9\u001b[0m\u001b[1;33m]\u001b[0m\u001b[1;33m,\u001b[0m \u001b[1;33m[\u001b[0m\u001b[1;36m1\u001b[0m\u001b[1;33m]\u001b[0m\u001b[1;33m,\u001b[0m \u001b[1;33m[\u001b[0m\u001b[1;36m1\u001b[0m\u001b[1;33m]\u001b[0m\u001b[1;33m]\u001b[0m\u001b[1;33m\u001b[0m\u001b[0m\n\u001b[1;32m----> 6\u001b[1;33m \u001b[0msimplex\u001b[0m \u001b[1;33m=\u001b[0m \u001b[0mplot_static\u001b[0m\u001b[1;33m(\u001b[0m\u001b[0mz\u001b[0m\u001b[1;33m,\u001b[0m \u001b[0mvert_labels\u001b[0m\u001b[1;33m=\u001b[0m\u001b[1;33m[\u001b[0m\u001b[1;34m'NoChange'\u001b[0m\u001b[1;33m,\u001b[0m \u001b[1;34m'Convergence'\u001b[0m\u001b[1;33m,\u001b[0m \u001b[1;34m'Divergence'\u001b[0m\u001b[1;33m]\u001b[0m\u001b[1;33m,\u001b[0m\u001b[0mbackground\u001b[0m\u001b[1;33m=\u001b[0m\u001b[1;32mTrue\u001b[0m\u001b[1;33m)\u001b[0m\u001b[1;33m\u001b[0m\u001b[0m\n\u001b[0m",
      "\u001b[1;32m~\\Anaconda3\\lib\\site-packages\\egtplot\\egtplot_code.py\u001b[0m in \u001b[0;36mplot_static\u001b[1;34m(payoff_entries, generations, steps, background, ic_type, ic_num, ic_dist, ic_color, paths, path_color, eq, display_parameters, custom_func, vert_labels)\u001b[0m\n\u001b[0;32m    778\u001b[0m \u001b[1;33m\u001b[0m\u001b[0m\n\u001b[0;32m    779\u001b[0m         \u001b[1;31m# print payoff matrices as a progress indicator\u001b[0m\u001b[1;33m\u001b[0m\u001b[1;33m\u001b[0m\u001b[0m\n\u001b[1;32m--> 780\u001b[1;33m         \u001b[0mpayoff_mat\u001b[0m \u001b[1;33m=\u001b[0m \u001b[0mnp\u001b[0m\u001b[1;33m.\u001b[0m\u001b[0mreshape\u001b[0m\u001b[1;33m(\u001b[0m\u001b[0mcombo\u001b[0m\u001b[1;33m,\u001b[0m \u001b[1;33m(\u001b[0m\u001b[1;36m3\u001b[0m\u001b[1;33m,\u001b[0m \u001b[1;36m3\u001b[0m\u001b[1;33m)\u001b[0m\u001b[1;33m)\u001b[0m\u001b[1;33m\u001b[0m\u001b[0m\n\u001b[0m\u001b[0;32m    781\u001b[0m \u001b[1;33m\u001b[0m\u001b[0m\n\u001b[0;32m    782\u001b[0m         \u001b[1;31m# create the subplot on which to plot the simplex\u001b[0m\u001b[1;33m\u001b[0m\u001b[1;33m\u001b[0m\u001b[0m\n",
      "\u001b[1;32m~\\Anaconda3\\lib\\site-packages\\numpy\\core\\fromnumeric.py\u001b[0m in \u001b[0;36mreshape\u001b[1;34m(a, newshape, order)\u001b[0m\n\u001b[0;32m    277\u001b[0m            [5, 6]])\n\u001b[0;32m    278\u001b[0m     \"\"\"\n\u001b[1;32m--> 279\u001b[1;33m     \u001b[1;32mreturn\u001b[0m \u001b[0m_wrapfunc\u001b[0m\u001b[1;33m(\u001b[0m\u001b[0ma\u001b[0m\u001b[1;33m,\u001b[0m \u001b[1;34m'reshape'\u001b[0m\u001b[1;33m,\u001b[0m \u001b[0mnewshape\u001b[0m\u001b[1;33m,\u001b[0m \u001b[0morder\u001b[0m\u001b[1;33m=\u001b[0m\u001b[0morder\u001b[0m\u001b[1;33m)\u001b[0m\u001b[1;33m\u001b[0m\u001b[0m\n\u001b[0m\u001b[0;32m    280\u001b[0m \u001b[1;33m\u001b[0m\u001b[0m\n\u001b[0;32m    281\u001b[0m \u001b[1;33m\u001b[0m\u001b[0m\n",
      "\u001b[1;32m~\\Anaconda3\\lib\\site-packages\\numpy\\core\\fromnumeric.py\u001b[0m in \u001b[0;36m_wrapfunc\u001b[1;34m(obj, method, *args, **kwds)\u001b[0m\n\u001b[0;32m     59\u001b[0m     \u001b[1;31m# a downstream library like 'pandas'.\u001b[0m\u001b[1;33m\u001b[0m\u001b[1;33m\u001b[0m\u001b[0m\n\u001b[0;32m     60\u001b[0m     \u001b[1;32mexcept\u001b[0m \u001b[1;33m(\u001b[0m\u001b[0mAttributeError\u001b[0m\u001b[1;33m,\u001b[0m \u001b[0mTypeError\u001b[0m\u001b[1;33m)\u001b[0m\u001b[1;33m:\u001b[0m\u001b[1;33m\u001b[0m\u001b[0m\n\u001b[1;32m---> 61\u001b[1;33m         \u001b[1;32mreturn\u001b[0m \u001b[0m_wrapit\u001b[0m\u001b[1;33m(\u001b[0m\u001b[0mobj\u001b[0m\u001b[1;33m,\u001b[0m \u001b[0mmethod\u001b[0m\u001b[1;33m,\u001b[0m \u001b[1;33m*\u001b[0m\u001b[0margs\u001b[0m\u001b[1;33m,\u001b[0m \u001b[1;33m**\u001b[0m\u001b[0mkwds\u001b[0m\u001b[1;33m)\u001b[0m\u001b[1;33m\u001b[0m\u001b[0m\n\u001b[0m\u001b[0;32m     62\u001b[0m \u001b[1;33m\u001b[0m\u001b[0m\n\u001b[0;32m     63\u001b[0m \u001b[1;33m\u001b[0m\u001b[0m\n",
      "\u001b[1;32m~\\Anaconda3\\lib\\site-packages\\numpy\\core\\fromnumeric.py\u001b[0m in \u001b[0;36m_wrapit\u001b[1;34m(obj, method, *args, **kwds)\u001b[0m\n\u001b[0;32m     39\u001b[0m     \u001b[1;32mexcept\u001b[0m \u001b[0mAttributeError\u001b[0m\u001b[1;33m:\u001b[0m\u001b[1;33m\u001b[0m\u001b[0m\n\u001b[0;32m     40\u001b[0m         \u001b[0mwrap\u001b[0m \u001b[1;33m=\u001b[0m \u001b[1;32mNone\u001b[0m\u001b[1;33m\u001b[0m\u001b[0m\n\u001b[1;32m---> 41\u001b[1;33m     \u001b[0mresult\u001b[0m \u001b[1;33m=\u001b[0m \u001b[0mgetattr\u001b[0m\u001b[1;33m(\u001b[0m\u001b[0masarray\u001b[0m\u001b[1;33m(\u001b[0m\u001b[0mobj\u001b[0m\u001b[1;33m)\u001b[0m\u001b[1;33m,\u001b[0m \u001b[0mmethod\u001b[0m\u001b[1;33m)\u001b[0m\u001b[1;33m(\u001b[0m\u001b[1;33m*\u001b[0m\u001b[0margs\u001b[0m\u001b[1;33m,\u001b[0m \u001b[1;33m**\u001b[0m\u001b[0mkwds\u001b[0m\u001b[1;33m)\u001b[0m\u001b[1;33m\u001b[0m\u001b[0m\n\u001b[0m\u001b[0;32m     42\u001b[0m     \u001b[1;32mif\u001b[0m \u001b[0mwrap\u001b[0m\u001b[1;33m:\u001b[0m\u001b[1;33m\u001b[0m\u001b[0m\n\u001b[0;32m     43\u001b[0m         \u001b[1;32mif\u001b[0m \u001b[1;32mnot\u001b[0m \u001b[0misinstance\u001b[0m\u001b[1;33m(\u001b[0m\u001b[0mresult\u001b[0m\u001b[1;33m,\u001b[0m \u001b[0mmu\u001b[0m\u001b[1;33m.\u001b[0m\u001b[0mndarray\u001b[0m\u001b[1;33m)\u001b[0m\u001b[1;33m:\u001b[0m\u001b[1;33m\u001b[0m\u001b[0m\n",
      "\u001b[1;31mValueError\u001b[0m: cannot reshape array of size 3 into shape (3,3)"
     ]
    },
    {
     "data": {
      "text/plain": [
       "<Figure size 432x432 with 0 Axes>"
      ]
     },
     "metadata": {},
     "output_type": "display_data"
    }
   ],
   "source": [
    "def get_payoff(alpha, beta, gamma):\n",
    "    return [[0, alpha, 0], \n",
    "            [1 + alpha - beta, 1 - 2 * beta, 1 - beta], \n",
    "            [1 - gamma, 1 - gamma, 1 - gamma]]\n",
    "z = [[9], [1], [1]]\n",
    "simplex = plot_static(z, vert_labels=['NoChange', 'Convergence', 'Divergence'],background=True)"
   ]
  },
  {
   "cell_type": "code",
   "execution_count": null,
   "metadata": {},
   "outputs": [],
   "source": []
  },
  {
   "cell_type": "code",
   "execution_count": 1,
   "metadata": {
    "scrolled": false
   },
   "outputs": [],
   "source": [
    "#sns.tsplot(data=A,time='wordNo',value='GMM_juliet',unit='subject')\n",
    "#sns.tsplot(data=A,time='wordNo',value='GMM_stella',unit='subject')"
   ]
  },
  {
   "cell_type": "code",
   "execution_count": null,
   "metadata": {},
   "outputs": [],
   "source": []
  }
 ],
 "metadata": {
  "kernelspec": {
   "display_name": "Python 3",
   "language": "python",
   "name": "python3"
  },
  "language_info": {
   "codemirror_mode": {
    "name": "ipython",
    "version": 3
   },
   "file_extension": ".py",
   "mimetype": "text/x-python",
   "name": "python",
   "nbconvert_exporter": "python",
   "pygments_lexer": "ipython3",
   "version": "3.6.0"
  }
 },
 "nbformat": 4,
 "nbformat_minor": 2
}
